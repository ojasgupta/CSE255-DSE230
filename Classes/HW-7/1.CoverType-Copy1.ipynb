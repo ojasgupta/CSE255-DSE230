{
 "cells": [
  {
   "cell_type": "code",
   "execution_count": 16,
   "metadata": {
    "collapsed": true,
    "slideshow": {
     "slide_type": "slide"
    }
   },
   "outputs": [],
   "source": [
    "# Name: Ojas Gupta  \n",
    "# Email: ogupta@eng.ucsd.edu\n",
    "# PID: A53201624\n",
    "import findspark\n",
    "findspark.init()\n",
    "\n",
    "from pyspark import SparkContext\n",
    "sc = SparkContext()\n",
    "\n",
    "from pyspark.mllib.linalg import Vectors\n",
    "from pyspark.mllib.regression import LabeledPoint\n",
    "\n",
    "from string import split,strip\n",
    "\n",
    "from pyspark.mllib.tree import GradientBoostedTrees, GradientBoostedTreesModel\n",
    "from pyspark.mllib.tree import RandomForest, RandomForestModel\n",
    "from pyspark.mllib.util import MLUtils"
   ]
  },
  {
   "cell_type": "code",
   "execution_count": 17,
   "metadata": {
    "collapsed": true,
    "slideshow": {
     "slide_type": "fragment"
    }
   },
   "outputs": [],
   "source": [
    "# Read the file into an RDD\n",
    "# If doing this on a real cluster, you need the file to be available on all nodes, ideally in HDFS.\n",
    "path='covtype/covtype.data'\n",
    "inputRDD=sc.textFile(path).cache()"
   ]
  },
  {
   "cell_type": "code",
   "execution_count": 18,
   "metadata": {
    "collapsed": true,
    "slideshow": {
     "slide_type": "fragment"
    }
   },
   "outputs": [],
   "source": [
    "Label=2.0\n",
    "Data=inputRDD.map(lambda line: [float(x) for x in line.split(',')])\\\n",
    "     .map(lambda V: LabeledPoint(1.0, V[:-1]) if V[-1] == Label else LabeledPoint(0.0, V[:-1])).cache()"
   ]
  },
  {
   "cell_type": "markdown",
   "metadata": {
    "slideshow": {
     "slide_type": "slide"
    }
   },
   "source": [
    "### Reducing data size\n",
    "In order to see the effects of overfitting more clearly, we reduce the size of the data by a factor of 10"
   ]
  },
  {
   "cell_type": "code",
   "execution_count": 19,
   "metadata": {
    "collapsed": true,
    "slideshow": {
     "slide_type": "fragment"
    }
   },
   "outputs": [],
   "source": [
    "(trainingData,testData)=Data.randomSplit([0.7,0.3],seed=255)"
   ]
  },
  {
   "cell_type": "code",
   "execution_count": 36,
   "metadata": {
    "slideshow": {
     "slide_type": "subslide"
    }
   },
   "outputs": [
    {
     "name": "stdout",
     "output_type": "stream",
     "text": [
      "12 {'test': 0.10123881386735374, 'train': 0.08794113023657943} 267 seconds\n"
     ]
    }
   ],
   "source": [
    "from time import time\n",
    "errors={}\n",
    "start=time()\n",
    "depth = 12\n",
    "model=GradientBoostedTrees.trainClassifier(trainingData, {}, loss =  \"leastSquaresError\", numIterations=15, maxDepth = depth)\n",
    "#     print model.toDebugString()\n",
    "errors[depth]={}\n",
    "dataSets={'train':trainingData,'test':testData}\n",
    "for name in dataSets.keys():  # Calculate errors on train and test sets\n",
    "    data=dataSets[name]\n",
    "    Predicted=model.predict(data.map(lambda x: x.features))\n",
    "    LabelsAndPredictions=data.map(lambda x: x.label).zip(Predicted)\n",
    "    Err = LabelsAndPredictions.filter(lambda (v,p):v != p).count()/float(data.count())\n",
    "    errors[depth][name]=Err\n",
    "print depth,errors[depth],int(time()-start),'seconds'"
   ]
  },
  {
   "cell_type": "code",
   "execution_count": null,
   "metadata": {
    "collapsed": true
   },
   "outputs": [],
   "source": []
  }
 ],
 "metadata": {
  "celltoolbar": "Slideshow",
  "kernelspec": {
   "display_name": "Python 2",
   "language": "python",
   "name": "python2"
  },
  "language_info": {
   "codemirror_mode": {
    "name": "ipython",
    "version": 2
   },
   "file_extension": ".py",
   "mimetype": "text/x-python",
   "name": "python",
   "nbconvert_exporter": "python",
   "pygments_lexer": "ipython2",
   "version": "2.7.13"
  }
 },
 "nbformat": 4,
 "nbformat_minor": 1
}
