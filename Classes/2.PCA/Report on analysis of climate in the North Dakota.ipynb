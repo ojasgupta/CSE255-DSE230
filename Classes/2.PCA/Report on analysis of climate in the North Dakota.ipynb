{
 "cells": [
  {
   "cell_type": "code",
   "execution_count": 1,
   "metadata": {
    "run_control": {
     "frozen": false,
     "read_only": false
    },
    "scrolled": false
   },
   "outputs": [
    {
     "name": "stdout",
     "output_type": "stream",
     "text": [
      "![5__maps_using_iPyLeaflet.jpg](r_figures/5__maps_using_iPyLeaflet.jpg)\n",
      "![bar.jpg](r_figures/bar.jpg)\n",
      "![c1_r_a.png](r_figures/c1_r_a.png)\n",
      "![c1_r_d.png](r_figures/c1_r_d.png)\n",
      "![c2_r_a.png](r_figures/c2_r_a.png)\n",
      "![c2_r_d.png](r_figures/c2_r_d.png)\n",
      "![c3_r_a.png](r_figures/c3_r_a.png)\n",
      "![c3_r_d.png](r_figures/c3_r_d.png)\n",
      "![Climate_Boston_-_Massachusetts_and_Weather_averages_Boston.jpg](r_figures/Climate_Boston_-_Massachusetts_and_Weather_averages_Boston.jpg)\n",
      "![location.png](r_figures/location.png)\n",
      "![Map of Average snow depth.jpg](r_figures/Map of Average snow depth.jpg)\n",
      "![northdakota.png](r_figures/northdakota.png)\n",
      "![percipitation.png](r_figures/percipitation.png)\n",
      "![PRCP_ND.png](r_figures/PRCP_ND.png)\n",
      "![PRCP.png](r_figures/PRCP.png)\n",
      "![sndepth.png](r_figures/sndepth.png)\n",
      "![snownew.png](r_figures/snownew.png)\n",
      "![SNOW.png](r_figures/SNOW.png)\n",
      "![snowVE.png](r_figures/snowVE.png)\n",
      "![SNWD_mean_eigs.png](r_figures/SNWD_mean_eigs.png)\n",
      "![SNWD.png](r_figures/SNWD.png)\n",
      "![SNWD_res_1_CDF.png](r_figures/SNWD_res_1_CDF.png)\n",
      "![SNWD_res_2_CDF.png](r_figures/SNWD_res_2_CDF.png)\n",
      "![SNWD_res_3_CDF.png](r_figures/SNWD_res_3_CDF.png)\n",
      "![tmin,tmax.png](r_figures/tmin,tmax.png)\n",
      "![TMIN,TMAX.png](r_figures/TMIN,TMAX.png)\n",
      "![TminVE.png](r_figures/TminVE.png)\n",
      "![TOBS.png](r_figures/TOBS.png)\n",
      "![tobs_prcp.png](r_figures/tobs_prcp.png)\n",
      "![VarExplained1.png](r_figures/VarExplained1.png)\n",
      "![VarExplained2.png](r_figures/VarExplained2.png)\n"
     ]
    }
   ],
   "source": [
    "L=!ls r_figures/\n",
    "for l in L:\n",
    "    print \"![%s](r_figures/%s)\"%(l,l)"
   ]
  },
  {
   "cell_type": "code",
   "execution_count": 2,
   "metadata": {
    "run_control": {
     "frozen": false,
     "read_only": false
    }
   },
   "outputs": [
    {
     "name": "stdout",
     "output_type": "stream",
     "text": [
      "Couldn't get a file descriptor referring to the console\r\n"
     ]
    }
   ],
   "source": [
    "!open r_figures/TMIN,TMAX.png"
   ]
  },
  {
   "cell_type": "markdown",
   "metadata": {
    "run_control": {
     "frozen": false,
     "read_only": false
    }
   },
   "source": [
    "# North Dakota Weather Analysis\n",
    "\n",
    "This is a report on the historical analysis of weather patterns in an area that approximately overlaps the area of the state of North Dakota.\n",
    "\n",
    "The data we will use here comes from [NOAA](https://www.ncdc.noaa.gov/). Specifically, it was downloaded from This [FTP site](ftp://ftp.ncdc.noaa.gov/pub/data/ghcn/daily/).\n",
    "\n",
    "We focused on six measurements:\n",
    "* **TMIN, TMAX:** the daily minimum and maximum temperature.\n",
    "* **TOBS:** The average temperature for each day.\n",
    "* **PRCP:** Daily Percipitation (in mm)\n",
    "* **SNOW:** Daily snowfall (in mm)\n",
    "* **SNWD:** The depth of accumulated snow.\n",
    "\n",
    "## Sanity-check: comparison with outside sources\n",
    "\n",
    "<p>We start by comparing some of the general statistics with graphs that we obtained from a site called <a href=\"http://www.usclimatedata.com/climate/boston/massachusetts/united-states/usma0046\" target=\"_blank\">US Climate Data</a> The graph below shows the daily minimum and maximum temperatures for each month, as well as the total precipitation for each month.</p>\n",
    "\n",
    "<p>An interesting point to note here is that almost half of the stations used, are located in Canada. In addition to the weather of North Dakota, we are also assessing the weather of a small part of Canada.<p>\n",
    "\n",
    "<p>&nbsp;</p>\n",
    "\n",
    "<p><img alt=\"northdakota.jpg\" src=\"r_figures/northdakota.png\" /></p>\n",
    "\n",
    "<p>&nbsp;</p>\n",
    "\n",
    "<p>We see that the min and max daily&nbsp;temperature almost agree with the ones we got from our data, once we translate Fahrenheit to Centigrade. Thus proving the authenticity of our results.</p>\n",
    "\n",
    "<p>&nbsp;</p>\n",
    "\n",
    "<p><img alt=\"tmin,tmax.png\" src=\"r_figures/tmin,tmax.png\" style=\"height:300px; width:800px\" /></p>\n",
    "\n",
    "<p>To compare the precipitation&nbsp;we need to translate millimeter/day to inches/month. According to our analysis, the peak time of rainfall is in between April to October. The average rainfall during the month of June-July is around 2.5 mm/day which translates to about 3 Inches&nbsp;per month. According to US-Climate-Data the average rainfall is closer to 3 inch per month.<p>\n",
    "\n",
    "<p>&nbsp;<img alt=\"PRCP_ND.png\" src=\"r_figures/tobs_prcp.png\" style=\"height:300px; width:800px\" /></p>\n"
   ]
  },
  {
   "cell_type": "markdown",
   "metadata": {
    "run_control": {
     "frozen": false,
     "read_only": false
    }
   },
   "source": [
    "### PCA analysis\n",
    "\n",
    "For each of the six measurement, we compute the percentate of the variance explained as a function of the number of eigen-vectors used.\n",
    "\n",
    "### Percentage of variance explained.\n",
    "![VarExplained1.png](r_figures/TminVE.png)\n",
    "We see that the top 5 eigen-vectors explain 11% of variance for TMIN, 35% for TOBS and 20% for TMAX.\n",
    "\n",
    "We conclude that of the three, TOBS is best explained by the top 5 eigenvectors. This is especially true for the first eigen-vector which, by itself, explains 23% of the variance.\n",
    "\n",
    "Here in TMIN we see a negative eigenvalues. In most cases, a covariance matrix is symmetric and positive semidefinite, which means all its eigenvalues are non-negative. But if somehow we get a non-psd result when calculating the covariance matrix, we can obtain a nearest psd matrix.\n",
    "\n",
    "![VarExplained2.png](r_figures/snowVE.png)\n",
    "\n",
    "The top 5 eigenvectors explain 0.09% of the variance for PRCP and 12% for SNOW. Both are low values. On the other hand the top 5 eigenvectors explain %90 of the variance for SNWD. This means that these top 5 eigenvectors capture most of the variation in the snow signals. Based on that we will dig deeper into the PCA analysis for snow-depth.\n",
    "\n",
    "It makes sense that SNWD would be less noisy than SNOW. That is because SNWD is a decaying integral of SNOW and, as such, varies less between days and between the same date on different years."
   ]
  },
  {
   "cell_type": "markdown",
   "metadata": {
    "run_control": {
     "frozen": false,
     "read_only": false
    }
   },
   "source": [
    "## Analysis of snow depth\n",
    "\n",
    "We choose to analyze the eigen-decomposition for snow-depth because the first 3 eigen-vectors explain 80% of the variance. This makes the data rich.\n",
    "\n",
    "First, we graph the mean and the top 3 eigen-vectors.\n",
    "\n",
    "We observe that the snow season is from november to the end of April, where the middle of February marks the peak of the snow-depth.\n",
    "![snownew.png](r_figures/snownew.png)"
   ]
  },
  {
   "cell_type": "markdown",
   "metadata": {
    "run_control": {
     "frozen": false,
     "read_only": false
    }
   },
   "source": [
    "Next we interpret the eigen-functions. The first eigen-function (eig1) has a shape very similar to the mean function. The main difference is that the eigen-function is close to zero during october-december while the mean is not.  The interpretation of this shape is that eig1 represents the overall amount of snow above/below the mean, but without changing the distribution over time.\n",
    "\n",
    "**eig2, eig3 and eig4** are similar in the following way. They all oscilate between positive and negative values. In other words, they correspond to changing the distribution of the snow depth over the winter months, but they don't change the total (much).\n",
    "\n",
    "They can be interpreted as follows:\n",
    "* **eig2:** less snow in jan - feb, more snow in march-april.\n",
    "* **eig3:** more snow in jan - feb, less snow in  march-april.\n",
    "* **eig4:** more snow in jan and april (little amount of snow in nov-dec), less snow in  feb - march.\n"
   ]
  },
  {
   "cell_type": "markdown",
   "metadata": {
    "run_control": {
     "frozen": false,
     "read_only": false
    }
   },
   "source": [
    "### Examples of reconstructions\n",
    "\n",
    "#### Coeff1\n",
    "Coeff1: most positive\n",
    "![SNWD_grid_Pos_coeff1.png](r_figures/c1_r_d.png)\n",
    "Coeff1: most negative\n",
    "![SNWD_grid_neg_coeff1.png](r_figures/c1_r_a.png)\n",
    "Large positive values of coeff1 correspond to more than average snow. Low values correspond to less than average snow.\n",
    "\n",
    "#### Coeff2\n",
    "Coeff2: most positive\n",
    "![SNWD_grid_Pos_coeff2.png](r_figures/c2_r_d.png)\n",
    "Coeff2: most negative\n",
    "![SNWD_grid_neg_coeff2.png](r_figures/c2_r_a.png)\n",
    "\n",
    "Large positive values of coeff2 correspond to a late snow season (most of the snowfall is after mid feb. Negative values for coeff2 correspond to an early snow season (most of the snow is before mid-feb.\n",
    "#### Coeff3\n",
    "Coeff3: most positive\n",
    "![SNWD_grid_Pos_coeff3.png](r_figures/c3_r_d.png)\n",
    "Coeff3: most negative\n",
    "![SNWD_grid_neg_coeff3.png](r_figures/c3_r_a.png)\n",
    "\n",
    "Large positive values of coeff3 correspond to a snow season with two spikes: one in the start of january, the other at the end of february. Negative values of coeff3 correspond to a season with a single peak at the end of Jan.\n",
    "\n"
   ]
  },
  {
   "cell_type": "markdown",
   "metadata": {},
   "source": [
    "## The variation in the timing of snow is mostly due to year-to-year variation\n",
    "In the previous section we see the variation of Coeff1, which corresponds to the total amount of snow, with respect to location. We now estimate the relative importance of location-to-location variation relative to year-by-year variation.\n",
    "\n",
    "These are measured using the fraction by which the variance is reduced when we subtract from each station/year entry the average-per-year or the average-per-station respectively. Here are the results:\n",
    "\n",
    "** coeff_1 **  \n",
    "total MS                   =  1972884.43   \n",
    "MS removing mean-by-station=  1506065.51, fraction explained=  23.66    \n",
    "MS removing mean-by-year   =  742903.49, fraction explained=  62.34     \n",
    "\n",
    "** coeff_2 **  \n",
    "total MS                   =  417468.57    \n",
    "MS removing mean-by-station=  381541.42 , fraction explained=  8.60    \n",
    "MS removing mean-by-year   =  151462.16 , fraction explained=  63.71       \n",
    "\n",
    "** coeff_3 **  \n",
    "total MS                   =  351831.52    \n",
    "MS removing mean-by-station=  326485.51, fraction explained=  7.20    \n",
    "MS removing mean-by-year   =  92637.88, fraction explained=  73.66      \n",
    "\n",
    "We see that the variation by year explains more than the variation by station. However this effect is a little weaker consider coeff_1, which has to do with the total snowfall, vs. coeff_2,3 which, as we saw above have to do with the timing of snowfall. We see that for coeff_2,3 the stations explain 7-8% of the variance while the year explaines 60-70%."
   ]
  },
  {
   "cell_type": "markdown",
   "metadata": {},
   "source": [
    "### Geographical Visual Representation of Snow Depth\n",
    "In the following map, the stations which provided the data for snow depth is marked with the circles. The size of the circle represents the amount of measurement data for snow depth received from the stations. \n",
    "\n",
    "As the legend specifies, the shade of the color represents the average coefficient of the first eigen vector. Where the red color specifies less coefficient and yellow collow specifies more coefficient.\n",
    "\n",
    "![maps](r_figures/mapsmaps.png)\n"
   ]
  },
  {
   "cell_type": "markdown",
   "metadata": {},
   "source": [
    "### Measuring statistical Correlation for the Snow days in dependency matrix.\n",
    "\n",
    "The matrix above shows, for each pair of stations, the normalized log probability that the overlap in snow days is particular and most of the stations are correlated.    \n",
    "\n",
    "We see immediately the first 21 stations are highly correlated with each other.\n",
    "\n",
    "A group of very correlated stations is:     \n",
    "['CA005012545', 'USC00326025', 'CA004015045', 'USW00094011', 'CA005012960', 'CA005010QFQ', 'USC00323963', 'USC00322385', 'USC00327704', 'USC00328764', 'USC00323686', 'USC00328627', 'CA00501A7AR', 'USC00320729', 'USC00325993', 'USC00327655', 'CA005010480', 'USC00320626', 'CA005010485', 'CA005010547', 'USC00322304']\n",
    "\n",
    "![maps](r_figures/dependency.png)\n"
   ]
  },
  {
   "cell_type": "markdown",
   "metadata": {},
   "source": [
    "### Explanation and possibe extensions\n",
    "When we reorder the rows and columns of the matrix using one of the eigenvectors, the grouping of the \n",
    "stations becomes more evident. For example, consider the upper left corner of the scond matrix (The upper left one). The stations at positions 0-21 are clearly strongly correlated with each other considering snowfall. \n",
    "\n",
    "This type of organization is called **Block Diagonal** and it typically reveals important structure such as grouping or clustering pf strongly related stations.\n",
    "\n",
    "![maps](r_figures/block_diagonal.png)"
   ]
  },
  {
   "cell_type": "markdown",
   "metadata": {},
   "source": [
    "### Geographical Representation of Correlation of Stations using 4 coefficients on Snow Data.\n",
    "\n",
    "We represented the coefficients of eigenvectors using triangles. Size of the triangles on each side represents the magnitude of the coefficients. \n",
    "\n",
    "From the following graph, since the stations are correlated, we can infer that the value of a coefficient almost follows the same pattern for all stations in that local region. Solid triangles are positive coefficients and Hollow triangles are negative coefficients.\n",
    "\n",
    "![maps](r_figures/map3.png)"
   ]
  },
  {
   "cell_type": "markdown",
   "metadata": {},
   "source": []
  }
 ],
 "metadata": {
  "anaconda-cloud": {},
  "kernelspec": {
   "display_name": "Python 2",
   "language": "python",
   "name": "python2"
  },
  "language_info": {
   "codemirror_mode": {
    "name": "ipython",
    "version": 2
   },
   "file_extension": ".py",
   "mimetype": "text/x-python",
   "name": "python",
   "nbconvert_exporter": "python",
   "pygments_lexer": "ipython2",
   "version": "2.7.13"
  },
  "toc": {
   "colors": {
    "hover_highlight": "#DAA520",
    "running_highlight": "#FF0000",
    "selected_highlight": "#FFD700"
   },
   "moveMenuLeft": true,
   "nav_menu": {
    "height": "12px",
    "width": "252px"
   },
   "navigate_menu": true,
   "number_sections": true,
   "sideBar": true,
   "threshold": 4,
   "toc_cell": false,
   "toc_section_display": "block",
   "toc_window_display": false
  }
 },
 "nbformat": 4,
 "nbformat_minor": 2
}
