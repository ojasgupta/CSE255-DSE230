{
 "cells": [
  {
   "cell_type": "markdown",
   "metadata": {
    "run_control": {
     "frozen": false,
     "read_only": false
    }
   },
   "source": [
    "## iPyLeaflet\n",
    "[ipyleaflet](https://github.com/ellisonbg/ipyleaflet) is a bridge between jupyter notebooks and the [leaflet](http://leafletjs.com/)  javascript library for drawing maps.\n",
    "\n",
    "ipyleaflet comes with a few examples notebooks (this notebook was derived from one) but very little documentation,\n",
    "for more documentation read the [Leaflet IPA](http://leafletjs.com/reference.html)\n",
    "\n",
    "For installation directions, see the README on [ipyleaflet](https://github.com/ellisonbg/ipyleaflet)"
   ]
  },
  {
   "cell_type": "code",
   "execution_count": 4,
   "metadata": {
    "collapsed": true,
    "run_control": {
     "frozen": false,
     "read_only": false
    }
   },
   "outputs": [],
   "source": [
    "from ipyleaflet import (\n",
    "    Map,\n",
    "    Marker,\n",
    "    TileLayer, ImageOverlay,\n",
    "    Polyline, Polygon, Rectangle, Circle, CircleMarker,\n",
    "    GeoJSON,\n",
    "    DrawControl\n",
    ")"
   ]
  },
  {
   "cell_type": "markdown",
   "metadata": {
    "run_control": {
     "frozen": false,
     "read_only": false
    }
   },
   "source": [
    "## Visualizing the distribution of the observations\n",
    "\n",
    "## Load the required libraries"
   ]
  },
  {
   "cell_type": "code",
   "execution_count": 5,
   "metadata": {
    "collapsed": true,
    "run_control": {
     "frozen": false,
     "read_only": false
    }
   },
   "outputs": [],
   "source": [
    "import pandas as pd\n",
    "import numpy as np\n",
    "import sklearn as sk\n",
    "import urllib\n",
    "import math"
   ]
  },
  {
   "cell_type": "code",
   "execution_count": 6,
   "metadata": {
    "run_control": {
     "frozen": false,
     "read_only": false
    }
   },
   "outputs": [],
   "source": [
    "import findspark\n",
    "findspark.init()\n",
    "\n",
    "from pyspark import SparkContext\n",
    "#sc.stop()\n",
    "sc = SparkContext(master=\"local[3]\",pyFiles=['lib/numpy_pack.py','lib/computeStats.py'])\n",
    "\n",
    "from pyspark import SparkContext\n",
    "from pyspark.sql import *\n",
    "sqlContext = SQLContext(sc)"
   ]
  },
  {
   "cell_type": "code",
   "execution_count": 7,
   "metadata": {
    "collapsed": true,
    "run_control": {
     "frozen": false,
     "read_only": false
    }
   },
   "outputs": [],
   "source": [
    "import sys\n",
    "sys.path.append('./lib')\n",
    "\n",
    "import numpy as np\n",
    "from numpy_pack import packArray,unpackArray\n",
    "from computeStats import computeOverAllDist, STAT_Descriptions"
   ]
  },
  {
   "cell_type": "code",
   "execution_count": 8,
   "metadata": {
    "run_control": {
     "frozen": false,
     "read_only": false
    }
   },
   "outputs": [
    {
     "name": "stdout",
     "output_type": "stream",
     "text": [
      "('keys from STAT=', ['TMIN', 'TOBS', 'TMAX', 'SNOW', 'SNWD', 'PRCP'])\n",
      "798\n",
      "+------------------+------------------+------------------+---------+--------+--------+---------+-----------+-------------------+-------------------+-------------------+-------------------+-----------+-----------+------+--------------------+------+\n",
      "|           coeff_1|           coeff_2|           coeff_3|elevation|   label|latitude|longitude|measurement|              res_1|              res_2|              res_3|           res_mean|    station|  total_var|undefs|              vector|  year|\n",
      "+------------------+------------------+------------------+---------+--------+--------+---------+-----------+-------------------+-------------------+-------------------+-------------------+-----------+-----------+------+--------------------+------+\n",
      "|1811.1595024675585| 460.5274358673977|343.37546092363647|    493.5|SBBBBBSB| 48.8217|-100.4525|       SNWD|0.21585999994825414|0.16516195320429514|0.13697690891565667|0.32277648388862784|USC00320941|1.2960385E7|     0|[F0 57 90 59 58 5...|1999.0|\n",
      "|1268.4661434676486|273.33980279791996|-498.3505019652992|    493.5|SBBBBBSB| 48.8217|-100.4525|       SNWD|0.27541733743657454| 0.2454125696391723|0.13752624856875573|0.23011228230743996|USC00320941|1.0141885E7|     1|[28 5B 28 5B 28 5...|1956.0|\n",
      "+------------------+------------------+------------------+---------+--------+--------+---------+-----------+-------------------+-------------------+-------------------+-------------------+-----------+-----------+------+--------------------+------+\n",
      "only showing top 2 rows\n",
      "\n"
     ]
    }
   ],
   "source": [
    "### Read the data frame from pickle file\n",
    "\n",
    "data_dir='../../Data/Weather'\n",
    "file_index='SBBBBBSB'\n",
    "meas='SNWD'\n",
    "\n",
    "from pickle import load\n",
    "\n",
    "#read statistics\n",
    "filename=data_dir+'/STAT_%s.pickle'%file_index\n",
    "STAT,STAT_Descriptions = load(open(filename,'rb'))\n",
    "print('keys from STAT=',STAT.keys())\n",
    "\n",
    "#!ls -ld $data_dir/*.parquet\n",
    "\n",
    "#read data\n",
    "filename=data_dir+'/decon_%s_%s.parquet'%(file_index,meas)\n",
    "\n",
    "df=sqlContext.read.parquet(filename)\n",
    "print(df.count())\n",
    "df.show(2)"
   ]
  },
  {
   "cell_type": "code",
   "execution_count": 9,
   "metadata": {
    "run_control": {
     "frozen": false,
     "read_only": false
    },
    "scrolled": true
   },
   "outputs": [
    {
     "name": "stdout",
     "output_type": "stream",
     "text": [
      "SELECT station, latitude,longitude,elevation,coeff_1,coeff_2,coeff_3 FROM weather\n",
      "+-----------+--------+---------+---------+------------------+------------------+-------------------+\n",
      "|    station|latitude|longitude|elevation|           coeff_1|           coeff_2|            coeff_3|\n",
      "+-----------+--------+---------+---------+------------------+------------------+-------------------+\n",
      "|USC00320941| 48.8217|-100.4525|    493.5|1811.1595024675585| 460.5274358673977| 343.37546092363647|\n",
      "|USC00320941| 48.8217|-100.4525|    493.5|1268.4661434676486|273.33980279791996| -498.3505019652992|\n",
      "|CA005010191|    49.3|   -99.45|    482.0| 4643.483342061809|1343.2179035744157|-1106.3804030213837|\n",
      "|CA005010640|   49.55|   -99.08|    374.0| 2533.331802740035| 96.44065865069248|  514.1959210470634|\n",
      "+-----------+--------+---------+---------+------------------+------------------+-------------------+\n",
      "only showing top 4 rows\n",
      "\n"
     ]
    }
   ],
   "source": [
    "#extract longitude and latitude for each station\n",
    "feature='coeff_1'\n",
    "sqlContext.registerDataFrameAsTable(df,'weather')\n",
    "Query=\"SELECT station, latitude,longitude,elevation,coeff_1,coeff_2,coeff_3 FROM weather\"\n",
    "print(Query)\n",
    "df1 = sqlContext.sql(Query)\n",
    "df1.show(4)"
   ]
  },
  {
   "cell_type": "code",
   "execution_count": 10,
   "metadata": {},
   "outputs": [
    {
     "data": {
      "text/plain": [
       "798"
      ]
     },
     "execution_count": 10,
     "metadata": {},
     "output_type": "execute_result"
    }
   ],
   "source": [
    "l = df1.sort(df1.longitude,ascending=True)\n",
    "l.count()"
   ]
  },
  {
   "cell_type": "code",
   "execution_count": 12,
   "metadata": {
    "run_control": {
     "frozen": false,
     "read_only": false
    }
   },
   "outputs": [
    {
     "data": {
      "text/html": [
       "<div>\n",
       "<table border=\"1\" class=\"dataframe\">\n",
       "  <thead>\n",
       "    <tr style=\"text-align: right;\">\n",
       "      <th></th>\n",
       "      <th>station</th>\n",
       "      <th>latitude</th>\n",
       "      <th>longitude</th>\n",
       "      <th>elevation</th>\n",
       "      <th>count(station)</th>\n",
       "      <th>avg(coeff_1)</th>\n",
       "      <th>avg(coeff_2)</th>\n",
       "      <th>avg(coeff_3)</th>\n",
       "    </tr>\n",
       "  </thead>\n",
       "  <tbody>\n",
       "    <tr>\n",
       "      <th>44</th>\n",
       "      <td>CA004011250</td>\n",
       "      <td>49.220</td>\n",
       "      <td>-101.75</td>\n",
       "      <td>515.0</td>\n",
       "      <td>3</td>\n",
       "      <td>-285.094918</td>\n",
       "      <td>49.181891</td>\n",
       "      <td>493.070462</td>\n",
       "    </tr>\n",
       "    <tr>\n",
       "      <th>21</th>\n",
       "      <td>CA004012485</td>\n",
       "      <td>49.330</td>\n",
       "      <td>-101.45</td>\n",
       "      <td>511.0</td>\n",
       "      <td>7</td>\n",
       "      <td>1139.183921</td>\n",
       "      <td>-268.135810</td>\n",
       "      <td>-42.849560</td>\n",
       "    </tr>\n",
       "    <tr>\n",
       "      <th>33</th>\n",
       "      <td>CA004016521</td>\n",
       "      <td>49.600</td>\n",
       "      <td>-101.72</td>\n",
       "      <td>596.0</td>\n",
       "      <td>4</td>\n",
       "      <td>1242.092633</td>\n",
       "      <td>-40.808637</td>\n",
       "      <td>77.933429</td>\n",
       "    </tr>\n",
       "    <tr>\n",
       "      <th>42</th>\n",
       "      <td>CA004018960</td>\n",
       "      <td>49.420</td>\n",
       "      <td>-102.50</td>\n",
       "      <td>594.0</td>\n",
       "      <td>2</td>\n",
       "      <td>2046.092394</td>\n",
       "      <td>56.979060</td>\n",
       "      <td>432.697026</td>\n",
       "    </tr>\n",
       "    <tr>\n",
       "      <th>22</th>\n",
       "      <td>CA005010191</td>\n",
       "      <td>49.300</td>\n",
       "      <td>-99.45</td>\n",
       "      <td>482.0</td>\n",
       "      <td>5</td>\n",
       "      <td>4598.653270</td>\n",
       "      <td>37.586413</td>\n",
       "      <td>-829.513576</td>\n",
       "    </tr>\n",
       "    <tr>\n",
       "      <th>8</th>\n",
       "      <td>CA005010480</td>\n",
       "      <td>49.917</td>\n",
       "      <td>-99.95</td>\n",
       "      <td>409.0</td>\n",
       "      <td>7</td>\n",
       "      <td>1352.164196</td>\n",
       "      <td>-239.857968</td>\n",
       "      <td>-476.770544</td>\n",
       "    </tr>\n",
       "    <tr>\n",
       "      <th>34</th>\n",
       "      <td>CA005010485</td>\n",
       "      <td>49.870</td>\n",
       "      <td>-99.98</td>\n",
       "      <td>363.0</td>\n",
       "      <td>2</td>\n",
       "      <td>13.773911</td>\n",
       "      <td>-496.876312</td>\n",
       "      <td>496.666768</td>\n",
       "    </tr>\n",
       "    <tr>\n",
       "      <th>45</th>\n",
       "      <td>CA005010640</td>\n",
       "      <td>49.550</td>\n",
       "      <td>-99.08</td>\n",
       "      <td>374.0</td>\n",
       "      <td>8</td>\n",
       "      <td>1896.866578</td>\n",
       "      <td>-119.895914</td>\n",
       "      <td>-433.628408</td>\n",
       "    </tr>\n",
       "    <tr>\n",
       "      <th>17</th>\n",
       "      <td>CA005010QFQ</td>\n",
       "      <td>49.930</td>\n",
       "      <td>-101.20</td>\n",
       "      <td>498.0</td>\n",
       "      <td>8</td>\n",
       "      <td>657.814766</td>\n",
       "      <td>222.911510</td>\n",
       "      <td>-79.522365</td>\n",
       "    </tr>\n",
       "    <tr>\n",
       "      <th>43</th>\n",
       "      <td>CA005012545</td>\n",
       "      <td>49.450</td>\n",
       "      <td>-99.02</td>\n",
       "      <td>403.0</td>\n",
       "      <td>5</td>\n",
       "      <td>954.786838</td>\n",
       "      <td>6.225656</td>\n",
       "      <td>-197.128650</td>\n",
       "    </tr>\n",
       "  </tbody>\n",
       "</table>\n",
       "</div>"
      ],
      "text/plain": [
       "        station  latitude  longitude  elevation  count(station)  avg(coeff_1)  \\\n",
       "44  CA004011250    49.220    -101.75      515.0               3   -285.094918   \n",
       "21  CA004012485    49.330    -101.45      511.0               7   1139.183921   \n",
       "33  CA004016521    49.600    -101.72      596.0               4   1242.092633   \n",
       "42  CA004018960    49.420    -102.50      594.0               2   2046.092394   \n",
       "22  CA005010191    49.300     -99.45      482.0               5   4598.653270   \n",
       "8   CA005010480    49.917     -99.95      409.0               7   1352.164196   \n",
       "34  CA005010485    49.870     -99.98      363.0               2     13.773911   \n",
       "45  CA005010640    49.550     -99.08      374.0               8   1896.866578   \n",
       "17  CA005010QFQ    49.930    -101.20      498.0               8    657.814766   \n",
       "43  CA005012545    49.450     -99.02      403.0               5    954.786838   \n",
       "\n",
       "    avg(coeff_2)  avg(coeff_3)  \n",
       "44     49.181891    493.070462  \n",
       "21   -268.135810    -42.849560  \n",
       "33    -40.808637     77.933429  \n",
       "42     56.979060    432.697026  \n",
       "22     37.586413   -829.513576  \n",
       "8    -239.857968   -476.770544  \n",
       "34   -496.876312    496.666768  \n",
       "45   -119.895914   -433.628408  \n",
       "17    222.911510    -79.522365  \n",
       "43      6.225656   -197.128650  "
      ]
     },
     "execution_count": 12,
     "metadata": {},
     "output_type": "execute_result"
    }
   ],
   "source": [
    "df2=df1.groupby(['station','latitude','longitude','elevation']).agg({\"station\": \"count\", feature: \"mean\", \"coeff_2\": \"mean\", \"coeff_3\": \"mean\"})\n",
    "pdf=df2.toPandas()\n",
    "pdf.sort_values(by=['station'],inplace=True)\n",
    "pdf.head(10)\n"
   ]
  },
  {
   "cell_type": "code",
   "execution_count": 13,
   "metadata": {
    "run_control": {
     "frozen": false,
     "read_only": false
    }
   },
   "outputs": [
    {
     "data": {
      "text/plain": [
       "u'#ff4d00'"
      ]
     },
     "execution_count": 13,
     "metadata": {},
     "output_type": "execute_result"
    }
   ],
   "source": [
    "#define a mapping from the range of the value to hex colors.\n",
    "from matplotlib.colors import rgb2hex\n",
    "_avg='avg(%s)'%feature\n",
    "_min=pdf[_avg].min()\n",
    "_max=pdf[_avg].max()\n",
    "_min,_max\n",
    "\n",
    "import pylab as plt\n",
    "cmap=plt.get_cmap('autumn')\n",
    "def get_color(val):\n",
    "    x=(val-_min)/(_max-_min)\n",
    "    return(rgb2hex(cmap(x)[:3]))\n",
    "\n",
    "get_color(1000.)"
   ]
  },
  {
   "cell_type": "markdown",
   "metadata": {
    "run_control": {
     "frozen": false,
     "read_only": false
    }
   },
   "source": [
    "## Map"
   ]
  },
  {
   "cell_type": "code",
   "execution_count": 14,
   "metadata": {
    "collapsed": true,
    "run_control": {
     "frozen": false,
     "read_only": false
    }
   },
   "outputs": [],
   "source": [
    "min_lat,max_lat,min_long,max_long = box = (48.00, 50.00, -102.77,-98.567)\n"
   ]
  },
  {
   "cell_type": "code",
   "execution_count": 36,
   "metadata": {
    "run_control": {
     "frozen": false,
     "read_only": false
    }
   },
   "outputs": [
    {
     "name": "stdout",
     "output_type": "stream",
     "text": [
      "-285.094918346\n",
      "1139.18392107\n",
      "1242.09263299\n",
      "2046.09239358\n",
      "4598.65326979\n",
      "1352.16419643\n",
      "13.7739107384\n",
      "1896.86657753\n",
      "657.814766321\n",
      "954.786837796\n",
      "180.803852024\n",
      "678.675954528\n",
      "160.164188791\n",
      "241.558651043\n",
      "253.317107878\n",
      "52.9731016855\n",
      "900.104672964\n",
      "470.378562547\n",
      "424.387749439\n",
      "-558.902120543\n",
      "535.99805233\n",
      "1259.73945043\n",
      "3509.4407408\n",
      "5.09355596526\n",
      "-20.7938799994\n",
      "990.554418637\n",
      "358.679497235\n",
      "446.993078129\n",
      "-134.447583292\n",
      "455.712939668\n",
      "81.356332478\n",
      "179.463678783\n",
      "-65.2567119868\n",
      "336.710660801\n",
      "163.603318813\n",
      "950.377625165\n",
      "567.240339146\n",
      "657.618195614\n",
      "240.477603682\n",
      "392.421511985\n",
      "504.054410519\n",
      "656.919261153\n",
      "134.176895287\n",
      "586.527769996\n",
      "106.248361298\n",
      "93.6571541828\n",
      "-341.828944945\n"
     ]
    },
    {
     "data": {
      "application/vnd.jupyter.widget-view+json": {
       "model_id": "1e751d090842499b8f5a8b6dccc58c97"
      }
     },
     "metadata": {},
     "output_type": "display_data"
    }
   ],
   "source": [
    "center = [(min_lat+max_lat)/2, (min_long+max_long)/2]\n",
    "zoom = 9\n",
    "\n",
    "m = Map(default_tiles=TileLayer(opacity=1.0), center=center, zoom=zoom)\n",
    "\n",
    "# r = Rectangle(bounds=[[min_lat,min_long],[max_lat,max_long]], weight=5, fill_opacity=0.0)\n",
    "# m += r\n",
    "\n",
    "lat_margin=(max_lat-min_lat)/4\n",
    "long_margin=(max_long-min_long)/4\n",
    "circles = []\n",
    "for index,row in pdf.iterrows():\n",
    "    _lat=row['latitude']\n",
    "    _long=row['longitude']\n",
    "    _count=row['count(station)']\n",
    "    _coef=row[_avg]\n",
    "    # taking sqrt of count so that the  area of the circle corresponds to the count\n",
    "    c = Circle(location=(_lat,_long), radius=int(400*np.sqrt(_count+0.0)), weight=1,\n",
    "            color='#F00', opacity=0.8, fill_opacity=0.8,\n",
    "            fill_color=get_color(_coef))\n",
    "    print _coef\n",
    "    circles.append(c)\n",
    "    m.add_layer(c)\n",
    "    h = -11.5\n",
    "    w = -19\n",
    "io = ImageOverlay(url='r_figures/legend.png', bounds=[[37.282-h, -122-w], [37.8-h, -122.6-w]])\n",
    "m.add_layer(io)\n",
    "m    "
   ]
  },
  {
   "cell_type": "code",
   "execution_count": 20,
   "metadata": {},
   "outputs": [
    {
     "name": "stdout",
     "output_type": "stream",
     "text": [
      "#ffff00\n",
      "#ff0000\n"
     ]
    }
   ],
   "source": [
    "print get_color(4650)\n",
    "print get_color(-600)"
   ]
  },
  {
   "cell_type": "markdown",
   "metadata": {
    "run_control": {
     "frozen": false,
     "read_only": false
    }
   },
   "source": [
    "### excercises:\n",
    "* Add a legend that relates the colors to values.\n",
    "* Leaflet supports a variety of maps. See if you can get a topographical map as the background."
   ]
  },
  {
   "cell_type": "code",
   "execution_count": 22,
   "metadata": {
    "run_control": {
     "frozen": false,
     "read_only": false
    }
   },
   "outputs": [
    {
     "data": {
      "image/png": "[encoded data removed]",
      "text/plain": [
       "<matplotlib.figure.Figure at 0x7f68aa1f3390>"
      ]
     },
     "metadata": {},
     "output_type": "display_data"
    }
   ],
   "source": [
    "%matplotlib inline\n",
    "pdf.plot.scatter(x='elevation',y='avg(coeff_3)');"
   ]
  },
  {
   "cell_type": "code",
   "execution_count": 27,
   "metadata": {},
   "outputs": [
    {
     "data": {
      "image/png": "[encoded data removed]",
      "text/plain": [
       "<matplotlib.figure.Figure at 0x7f68a9c725d0>"
      ]
     },
     "metadata": {},
     "output_type": "display_data"
    }
   ],
   "source": [
    "pdf.plot.scatter(x='elevation',y='avg(coeff_2)');"
   ]
  },
  {
   "cell_type": "code",
   "execution_count": 28,
   "metadata": {},
   "outputs": [
    {
     "data": {
      "image/png": "[encoded data removed]",
      "text/plain": [
       "<matplotlib.figure.Figure at 0x7f68a9c98210>"
      ]
     },
     "metadata": {},
     "output_type": "display_data"
    }
   ],
   "source": [
    "pdf.plot.scatter(x='elevation',y='avg(coeff_1)');"
   ]
  },
  {
   "cell_type": "code",
   "execution_count": null,
   "metadata": {
    "collapsed": true,
    "run_control": {
     "frozen": false,
     "read_only": false
    }
   },
   "outputs": [],
   "source": []
  },
  {
   "cell_type": "code",
   "execution_count": 12,
   "metadata": {},
   "outputs": [
    {
     "data": {
      "text/plain": [
       "['spark big  data analysis', 'spring', 'spark  basics']"
      ]
     },
     "execution_count": 12,
     "metadata": {},
     "output_type": "execute_result"
    }
   ],
   "source": [
    "RDD1=sc.parallelize([\"spark  basics\", \"spark big  data analysis\", \"spring\"]) \n",
    "RDD2=sc.parallelize([\"spark using pyspark\", \"big data\"])\n",
    " \n",
    "RDD1.subtract(RDD2).collect()"
   ]
  },
  {
   "cell_type": "code",
   "execution_count": 38,
   "metadata": {
    "collapsed": true
   },
   "outputs": [],
   "source": [
    "sc.stop()"
   ]
  },
  {
   "cell_type": "code",
   "execution_count": null,
   "metadata": {
    "collapsed": true
   },
   "outputs": [],
   "source": []
  }
 ],
 "metadata": {
  "anaconda-cloud": {},
  "hide_input": false,
  "kernelspec": {
   "display_name": "Python 2",
   "language": "python",
   "name": "python2"
  },
  "language_info": {
   "codemirror_mode": {
    "name": "ipython",
    "version": 2
   },
   "file_extension": ".py",
   "mimetype": "text/x-python",
   "name": "python",
   "nbconvert_exporter": "python",
   "pygments_lexer": "ipython2",
   "version": "2.7.13"
  },
  "toc": {
   "colors": {
    "hover_highlight": "#DAA520",
    "running_highlight": "#FF0000",
    "selected_highlight": "#FFD700"
   },
   "moveMenuLeft": true,
   "nav_menu": {
    "height": "174px",
    "width": "252px"
   },
   "navigate_menu": true,
   "number_sections": true,
   "sideBar": true,
   "threshold": 4,
   "toc_cell": false,
   "toc_section_display": "block",
   "toc_window_display": false
  }
 },
 "nbformat": 4,
 "nbformat_minor": 1
}
