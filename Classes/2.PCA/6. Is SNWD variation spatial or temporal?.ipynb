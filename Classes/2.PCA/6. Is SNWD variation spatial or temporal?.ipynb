{
 "cells": [
  {
   "cell_type": "markdown",
   "metadata": {
    "run_control": {
     "frozen": false,
     "read_only": false
    }
   },
   "source": [
    "## Analyze whether SNWD varies more from year to year or from place to place."
   ]
  },
  {
   "cell_type": "code",
   "execution_count": 1,
   "metadata": {
    "collapsed": true,
    "run_control": {
     "frozen": false,
     "read_only": false
    }
   },
   "outputs": [],
   "source": [
    "import pandas as pd\n",
    "import numpy as np\n",
    "import urllib\n",
    "import math"
   ]
  },
  {
   "cell_type": "code",
   "execution_count": 2,
   "metadata": {
    "collapsed": true,
    "run_control": {
     "frozen": false,
     "read_only": false
    }
   },
   "outputs": [],
   "source": [
    "import findspark\n",
    "findspark.init()\n",
    "\n",
    "from pyspark import SparkContext\n",
    "#sc.stop()\n",
    "sc = SparkContext(master=\"local[3]\",pyFiles=['lib/numpy_pack.py','lib/spark_PCA.py','lib/computeStats.py'])\n",
    "\n",
    "from pyspark import SparkContext\n",
    "from pyspark.sql import *\n",
    "sqlContext = SQLContext(sc)"
   ]
  },
  {
   "cell_type": "code",
   "execution_count": 3,
   "metadata": {
    "collapsed": true,
    "run_control": {
     "frozen": false,
     "read_only": false
    }
   },
   "outputs": [],
   "source": [
    "import sys\n",
    "sys.path.append('./lib')\n",
    "\n",
    "import numpy as np\n",
    "from numpy_pack import packArray,unpackArray\n",
    "from spark_PCA import computeCov\n",
    "from computeStats import computeOverAllDist, STAT_Descriptions"
   ]
  },
  {
   "cell_type": "code",
   "execution_count": 4,
   "metadata": {
    "run_control": {
     "frozen": false,
     "read_only": false
    },
    "scrolled": true
   },
   "outputs": [
    {
     "name": "stdout",
     "output_type": "stream",
     "text": [
      "('keys from STAT=', ['TMIN', 'TOBS', 'TMAX', 'SNOW', 'SNWD', 'PRCP'])\n",
      "798\n",
      "+------------------+------------------+------------------+---------+--------+--------+---------+-----------+-------------------+-------------------+-------------------+-------------------+-----------+-----------+------+--------------------+------+\n",
      "|           coeff_1|           coeff_2|           coeff_3|elevation|   label|latitude|longitude|measurement|              res_1|              res_2|              res_3|           res_mean|    station|  total_var|undefs|              vector|  year|\n",
      "+------------------+------------------+------------------+---------+--------+--------+---------+-----------+-------------------+-------------------+-------------------+-------------------+-----------+-----------+------+--------------------+------+\n",
      "|1811.1595024675585| 460.5274358673977|343.37546092363647|    493.5|SBBBBBSB| 48.8217|-100.4525|       SNWD|0.21585999994825414|0.16516195320429514|0.13697690891565667|0.32277648388862784|USC00320941|1.2960385E7|     0|[F0 57 90 59 58 5...|1999.0|\n",
      "|1268.4661434676486|273.33980279791996|-498.3505019652992|    493.5|SBBBBBSB| 48.8217|-100.4525|       SNWD|0.27541733743657454| 0.2454125696391723|0.13752624856875573|0.23011228230743996|USC00320941|1.0141885E7|     1|[28 5B 28 5B 28 5...|1956.0|\n",
      "+------------------+------------------+------------------+---------+--------+--------+---------+-----------+-------------------+-------------------+-------------------+-------------------+-----------+-----------+------+--------------------+------+\n",
      "only showing top 2 rows\n",
      "\n"
     ]
    }
   ],
   "source": [
    "### Read the data frame from pickle file\n",
    "\n",
    "data_dir='../../Data/Weather'\n",
    "file_index='SBBBBBSB'\n",
    "meas='SNWD'\n",
    "\n",
    "from pickle import load\n",
    "\n",
    "#read statistics\n",
    "filename=data_dir+'/STAT_%s.pickle'%file_index\n",
    "STAT,STAT_Descriptions = load(open(filename,'rb'))\n",
    "print('keys from STAT=',STAT.keys())\n",
    "\n",
    "#!ls -ld $data_dir/*.parquet\n",
    "\n",
    "#read data\n",
    "filename=data_dir+'/decon_%s_%s.parquet'%(file_index,meas)\n",
    "\n",
    "df=sqlContext.read.parquet(filename)\n",
    "print(df.count())\n",
    "df.show(2)"
   ]
  },
  {
   "cell_type": "code",
   "execution_count": 5,
   "metadata": {
    "run_control": {
     "frozen": false,
     "read_only": false
    }
   },
   "outputs": [
    {
     "name": "stdout",
     "output_type": "stream",
     "text": [
      "['coeff_1', 'coeff_2', 'coeff_3', 'elevation', 'label', 'latitude', 'longitude', 'measurement', 'res_1', 'res_2', 'res_3', 'res_mean', 'station', 'total_var', 'undefs', 'vector', 'year']\n"
     ]
    }
   ],
   "source": [
    "print df.columns"
   ]
  },
  {
   "cell_type": "code",
   "execution_count": 22,
   "metadata": {
    "run_control": {
     "frozen": false,
     "read_only": false
    },
    "scrolled": true
   },
   "outputs": [
    {
     "name": "stdout",
     "output_type": "stream",
     "text": [
      "SELECT station, year, coeff_2 FROM weather\n"
     ]
    },
    {
     "data": {
      "text/html": [
       "<div>\n",
       "<table border=\"1\" class=\"dataframe\">\n",
       "  <thead>\n",
       "    <tr style=\"text-align: right;\">\n",
       "      <th></th>\n",
       "      <th>station</th>\n",
       "      <th>year</th>\n",
       "      <th>coeff_2</th>\n",
       "    </tr>\n",
       "  </thead>\n",
       "  <tbody>\n",
       "    <tr>\n",
       "      <th>0</th>\n",
       "      <td>USC00320941</td>\n",
       "      <td>1999.0</td>\n",
       "      <td>460.527436</td>\n",
       "    </tr>\n",
       "    <tr>\n",
       "      <th>1</th>\n",
       "      <td>USC00320941</td>\n",
       "      <td>1956.0</td>\n",
       "      <td>273.339803</td>\n",
       "    </tr>\n",
       "    <tr>\n",
       "      <th>2</th>\n",
       "      <td>CA005010191</td>\n",
       "      <td>2009.0</td>\n",
       "      <td>1343.217904</td>\n",
       "    </tr>\n",
       "    <tr>\n",
       "      <th>3</th>\n",
       "      <td>CA005010640</td>\n",
       "      <td>2011.0</td>\n",
       "      <td>96.440659</td>\n",
       "    </tr>\n",
       "    <tr>\n",
       "      <th>4</th>\n",
       "      <td>CA005010640</td>\n",
       "      <td>2006.0</td>\n",
       "      <td>646.845617</td>\n",
       "    </tr>\n",
       "  </tbody>\n",
       "</table>\n",
       "</div>"
      ],
      "text/plain": [
       "       station    year      coeff_2\n",
       "0  USC00320941  1999.0   460.527436\n",
       "1  USC00320941  1956.0   273.339803\n",
       "2  CA005010191  2009.0  1343.217904\n",
       "3  CA005010640  2011.0    96.440659\n",
       "4  CA005010640  2006.0   646.845617"
      ]
     },
     "execution_count": 22,
     "metadata": {},
     "output_type": "execute_result"
    }
   ],
   "source": [
    "#extract longitude and latitude for each station\n",
    "feature='coeff_1'\n",
    "sqlContext.registerDataFrameAsTable(df,'weather')\n",
    "# Features=', '.join(['station', 'year','coeff_1', 'coeff_2', 'coeff_3', 'elevation', 'latitude', 'longitude',\\\n",
    "#          'res_1', 'res_2', 'res_3', 'res_mean', 'year'])\n",
    "Features='station, year, coeff_2'\n",
    "Query=\"SELECT %s FROM weather\"%Features\n",
    "print(Query)\n",
    "pdf = sqlContext.sql(Query).toPandas()\n",
    "pdf.head()"
   ]
  },
  {
   "cell_type": "code",
   "execution_count": 23,
   "metadata": {
    "run_control": {
     "frozen": false,
     "read_only": false
    }
   },
   "outputs": [
    {
     "data": {
      "text/html": [
       "<div>\n",
       "<table border=\"1\" class=\"dataframe\">\n",
       "  <thead>\n",
       "    <tr style=\"text-align: right;\">\n",
       "      <th>station</th>\n",
       "      <th>CA004011250</th>\n",
       "      <th>CA004012485</th>\n",
       "      <th>CA004016521</th>\n",
       "      <th>CA004018960</th>\n",
       "      <th>CA005010191</th>\n",
       "      <th>CA005010480</th>\n",
       "      <th>CA005010485</th>\n",
       "      <th>CA005010640</th>\n",
       "      <th>CA005010QFQ</th>\n",
       "      <th>CA005012545</th>\n",
       "      <th>...</th>\n",
       "      <th>USC00327824</th>\n",
       "      <th>USC00328047</th>\n",
       "      <th>USC00328627</th>\n",
       "      <th>USC00328792</th>\n",
       "      <th>USC00328913</th>\n",
       "      <th>USC00328990</th>\n",
       "      <th>USC00329333</th>\n",
       "      <th>USC00329445</th>\n",
       "      <th>USW00024013</th>\n",
       "      <th>USW00094011</th>\n",
       "    </tr>\n",
       "    <tr>\n",
       "      <th>year</th>\n",
       "      <th></th>\n",
       "      <th></th>\n",
       "      <th></th>\n",
       "      <th></th>\n",
       "      <th></th>\n",
       "      <th></th>\n",
       "      <th></th>\n",
       "      <th></th>\n",
       "      <th></th>\n",
       "      <th></th>\n",
       "      <th></th>\n",
       "      <th></th>\n",
       "      <th></th>\n",
       "      <th></th>\n",
       "      <th></th>\n",
       "      <th></th>\n",
       "      <th></th>\n",
       "      <th></th>\n",
       "      <th></th>\n",
       "      <th></th>\n",
       "      <th></th>\n",
       "    </tr>\n",
       "  </thead>\n",
       "  <tbody>\n",
       "    <tr>\n",
       "      <th>1939.0</th>\n",
       "      <td>NaN</td>\n",
       "      <td>NaN</td>\n",
       "      <td>NaN</td>\n",
       "      <td>NaN</td>\n",
       "      <td>NaN</td>\n",
       "      <td>NaN</td>\n",
       "      <td>NaN</td>\n",
       "      <td>NaN</td>\n",
       "      <td>NaN</td>\n",
       "      <td>NaN</td>\n",
       "      <td>...</td>\n",
       "      <td>NaN</td>\n",
       "      <td>NaN</td>\n",
       "      <td>NaN</td>\n",
       "      <td>NaN</td>\n",
       "      <td>NaN</td>\n",
       "      <td>NaN</td>\n",
       "      <td>NaN</td>\n",
       "      <td>NaN</td>\n",
       "      <td>NaN</td>\n",
       "      <td>NaN</td>\n",
       "    </tr>\n",
       "    <tr>\n",
       "      <th>1941.0</th>\n",
       "      <td>NaN</td>\n",
       "      <td>NaN</td>\n",
       "      <td>NaN</td>\n",
       "      <td>NaN</td>\n",
       "      <td>NaN</td>\n",
       "      <td>NaN</td>\n",
       "      <td>NaN</td>\n",
       "      <td>NaN</td>\n",
       "      <td>NaN</td>\n",
       "      <td>NaN</td>\n",
       "      <td>...</td>\n",
       "      <td>NaN</td>\n",
       "      <td>NaN</td>\n",
       "      <td>NaN</td>\n",
       "      <td>NaN</td>\n",
       "      <td>NaN</td>\n",
       "      <td>NaN</td>\n",
       "      <td>NaN</td>\n",
       "      <td>NaN</td>\n",
       "      <td>NaN</td>\n",
       "      <td>NaN</td>\n",
       "    </tr>\n",
       "    <tr>\n",
       "      <th>1946.0</th>\n",
       "      <td>NaN</td>\n",
       "      <td>NaN</td>\n",
       "      <td>NaN</td>\n",
       "      <td>NaN</td>\n",
       "      <td>NaN</td>\n",
       "      <td>NaN</td>\n",
       "      <td>NaN</td>\n",
       "      <td>NaN</td>\n",
       "      <td>NaN</td>\n",
       "      <td>NaN</td>\n",
       "      <td>...</td>\n",
       "      <td>NaN</td>\n",
       "      <td>NaN</td>\n",
       "      <td>NaN</td>\n",
       "      <td>NaN</td>\n",
       "      <td>NaN</td>\n",
       "      <td>NaN</td>\n",
       "      <td>NaN</td>\n",
       "      <td>NaN</td>\n",
       "      <td>NaN</td>\n",
       "      <td>NaN</td>\n",
       "    </tr>\n",
       "    <tr>\n",
       "      <th>1948.0</th>\n",
       "      <td>NaN</td>\n",
       "      <td>NaN</td>\n",
       "      <td>NaN</td>\n",
       "      <td>NaN</td>\n",
       "      <td>NaN</td>\n",
       "      <td>NaN</td>\n",
       "      <td>NaN</td>\n",
       "      <td>NaN</td>\n",
       "      <td>NaN</td>\n",
       "      <td>NaN</td>\n",
       "      <td>...</td>\n",
       "      <td>NaN</td>\n",
       "      <td>NaN</td>\n",
       "      <td>NaN</td>\n",
       "      <td>NaN</td>\n",
       "      <td>NaN</td>\n",
       "      <td>NaN</td>\n",
       "      <td>NaN</td>\n",
       "      <td>NaN</td>\n",
       "      <td>NaN</td>\n",
       "      <td>NaN</td>\n",
       "    </tr>\n",
       "    <tr>\n",
       "      <th>1949.0</th>\n",
       "      <td>NaN</td>\n",
       "      <td>NaN</td>\n",
       "      <td>NaN</td>\n",
       "      <td>NaN</td>\n",
       "      <td>NaN</td>\n",
       "      <td>NaN</td>\n",
       "      <td>NaN</td>\n",
       "      <td>NaN</td>\n",
       "      <td>NaN</td>\n",
       "      <td>NaN</td>\n",
       "      <td>...</td>\n",
       "      <td>NaN</td>\n",
       "      <td>247.347400</td>\n",
       "      <td>-96.348883</td>\n",
       "      <td>NaN</td>\n",
       "      <td>NaN</td>\n",
       "      <td>-1350.401172</td>\n",
       "      <td>NaN</td>\n",
       "      <td>NaN</td>\n",
       "      <td>-890.617001</td>\n",
       "      <td>NaN</td>\n",
       "    </tr>\n",
       "    <tr>\n",
       "      <th>1950.0</th>\n",
       "      <td>NaN</td>\n",
       "      <td>NaN</td>\n",
       "      <td>NaN</td>\n",
       "      <td>NaN</td>\n",
       "      <td>NaN</td>\n",
       "      <td>NaN</td>\n",
       "      <td>NaN</td>\n",
       "      <td>NaN</td>\n",
       "      <td>NaN</td>\n",
       "      <td>NaN</td>\n",
       "      <td>...</td>\n",
       "      <td>NaN</td>\n",
       "      <td>53.773628</td>\n",
       "      <td>89.178716</td>\n",
       "      <td>NaN</td>\n",
       "      <td>-1170.720002</td>\n",
       "      <td>-755.968705</td>\n",
       "      <td>NaN</td>\n",
       "      <td>-77.704247</td>\n",
       "      <td>-332.428507</td>\n",
       "      <td>NaN</td>\n",
       "    </tr>\n",
       "    <tr>\n",
       "      <th>1951.0</th>\n",
       "      <td>NaN</td>\n",
       "      <td>NaN</td>\n",
       "      <td>NaN</td>\n",
       "      <td>NaN</td>\n",
       "      <td>NaN</td>\n",
       "      <td>NaN</td>\n",
       "      <td>NaN</td>\n",
       "      <td>NaN</td>\n",
       "      <td>NaN</td>\n",
       "      <td>NaN</td>\n",
       "      <td>...</td>\n",
       "      <td>NaN</td>\n",
       "      <td>1766.926874</td>\n",
       "      <td>814.875445</td>\n",
       "      <td>NaN</td>\n",
       "      <td>NaN</td>\n",
       "      <td>216.816626</td>\n",
       "      <td>NaN</td>\n",
       "      <td>243.004439</td>\n",
       "      <td>244.855465</td>\n",
       "      <td>NaN</td>\n",
       "    </tr>\n",
       "    <tr>\n",
       "      <th>1952.0</th>\n",
       "      <td>NaN</td>\n",
       "      <td>NaN</td>\n",
       "      <td>NaN</td>\n",
       "      <td>NaN</td>\n",
       "      <td>NaN</td>\n",
       "      <td>NaN</td>\n",
       "      <td>NaN</td>\n",
       "      <td>NaN</td>\n",
       "      <td>NaN</td>\n",
       "      <td>NaN</td>\n",
       "      <td>...</td>\n",
       "      <td>322.499850</td>\n",
       "      <td>-70.139288</td>\n",
       "      <td>185.628256</td>\n",
       "      <td>-981.138987</td>\n",
       "      <td>-89.682004</td>\n",
       "      <td>-419.241028</td>\n",
       "      <td>NaN</td>\n",
       "      <td>NaN</td>\n",
       "      <td>-234.849054</td>\n",
       "      <td>NaN</td>\n",
       "    </tr>\n",
       "    <tr>\n",
       "      <th>1953.0</th>\n",
       "      <td>NaN</td>\n",
       "      <td>NaN</td>\n",
       "      <td>NaN</td>\n",
       "      <td>NaN</td>\n",
       "      <td>NaN</td>\n",
       "      <td>NaN</td>\n",
       "      <td>NaN</td>\n",
       "      <td>NaN</td>\n",
       "      <td>NaN</td>\n",
       "      <td>NaN</td>\n",
       "      <td>...</td>\n",
       "      <td>648.931623</td>\n",
       "      <td>NaN</td>\n",
       "      <td>NaN</td>\n",
       "      <td>245.451276</td>\n",
       "      <td>236.647033</td>\n",
       "      <td>NaN</td>\n",
       "      <td>NaN</td>\n",
       "      <td>246.037119</td>\n",
       "      <td>NaN</td>\n",
       "      <td>NaN</td>\n",
       "    </tr>\n",
       "    <tr>\n",
       "      <th>1954.0</th>\n",
       "      <td>NaN</td>\n",
       "      <td>NaN</td>\n",
       "      <td>NaN</td>\n",
       "      <td>NaN</td>\n",
       "      <td>NaN</td>\n",
       "      <td>NaN</td>\n",
       "      <td>NaN</td>\n",
       "      <td>NaN</td>\n",
       "      <td>NaN</td>\n",
       "      <td>NaN</td>\n",
       "      <td>...</td>\n",
       "      <td>-907.295668</td>\n",
       "      <td>NaN</td>\n",
       "      <td>-892.231009</td>\n",
       "      <td>-1482.714148</td>\n",
       "      <td>-702.677386</td>\n",
       "      <td>-560.139646</td>\n",
       "      <td>NaN</td>\n",
       "      <td>-524.360104</td>\n",
       "      <td>NaN</td>\n",
       "      <td>NaN</td>\n",
       "    </tr>\n",
       "  </tbody>\n",
       "</table>\n",
       "<p>10 rows × 47 columns</p>\n",
       "</div>"
      ],
      "text/plain": [
       "station  CA004011250  CA004012485  CA004016521  CA004018960  CA005010191  \\\n",
       "year                                                                       \n",
       "1939.0           NaN          NaN          NaN          NaN          NaN   \n",
       "1941.0           NaN          NaN          NaN          NaN          NaN   \n",
       "1946.0           NaN          NaN          NaN          NaN          NaN   \n",
       "1948.0           NaN          NaN          NaN          NaN          NaN   \n",
       "1949.0           NaN          NaN          NaN          NaN          NaN   \n",
       "1950.0           NaN          NaN          NaN          NaN          NaN   \n",
       "1951.0           NaN          NaN          NaN          NaN          NaN   \n",
       "1952.0           NaN          NaN          NaN          NaN          NaN   \n",
       "1953.0           NaN          NaN          NaN          NaN          NaN   \n",
       "1954.0           NaN          NaN          NaN          NaN          NaN   \n",
       "\n",
       "station  CA005010480  CA005010485  CA005010640  CA005010QFQ  CA005012545  \\\n",
       "year                                                                       \n",
       "1939.0           NaN          NaN          NaN          NaN          NaN   \n",
       "1941.0           NaN          NaN          NaN          NaN          NaN   \n",
       "1946.0           NaN          NaN          NaN          NaN          NaN   \n",
       "1948.0           NaN          NaN          NaN          NaN          NaN   \n",
       "1949.0           NaN          NaN          NaN          NaN          NaN   \n",
       "1950.0           NaN          NaN          NaN          NaN          NaN   \n",
       "1951.0           NaN          NaN          NaN          NaN          NaN   \n",
       "1952.0           NaN          NaN          NaN          NaN          NaN   \n",
       "1953.0           NaN          NaN          NaN          NaN          NaN   \n",
       "1954.0           NaN          NaN          NaN          NaN          NaN   \n",
       "\n",
       "station     ...       USC00327824  USC00328047  USC00328627  USC00328792  \\\n",
       "year        ...                                                            \n",
       "1939.0      ...               NaN          NaN          NaN          NaN   \n",
       "1941.0      ...               NaN          NaN          NaN          NaN   \n",
       "1946.0      ...               NaN          NaN          NaN          NaN   \n",
       "1948.0      ...               NaN          NaN          NaN          NaN   \n",
       "1949.0      ...               NaN   247.347400   -96.348883          NaN   \n",
       "1950.0      ...               NaN    53.773628    89.178716          NaN   \n",
       "1951.0      ...               NaN  1766.926874   814.875445          NaN   \n",
       "1952.0      ...        322.499850   -70.139288   185.628256  -981.138987   \n",
       "1953.0      ...        648.931623          NaN          NaN   245.451276   \n",
       "1954.0      ...       -907.295668          NaN  -892.231009 -1482.714148   \n",
       "\n",
       "station  USC00328913  USC00328990  USC00329333  USC00329445  USW00024013  \\\n",
       "year                                                                       \n",
       "1939.0           NaN          NaN          NaN          NaN          NaN   \n",
       "1941.0           NaN          NaN          NaN          NaN          NaN   \n",
       "1946.0           NaN          NaN          NaN          NaN          NaN   \n",
       "1948.0           NaN          NaN          NaN          NaN          NaN   \n",
       "1949.0           NaN -1350.401172          NaN          NaN  -890.617001   \n",
       "1950.0  -1170.720002  -755.968705          NaN   -77.704247  -332.428507   \n",
       "1951.0           NaN   216.816626          NaN   243.004439   244.855465   \n",
       "1952.0    -89.682004  -419.241028          NaN          NaN  -234.849054   \n",
       "1953.0    236.647033          NaN          NaN   246.037119          NaN   \n",
       "1954.0   -702.677386  -560.139646          NaN  -524.360104          NaN   \n",
       "\n",
       "station  USW00094011  \n",
       "year                  \n",
       "1939.0           NaN  \n",
       "1941.0           NaN  \n",
       "1946.0           NaN  \n",
       "1948.0           NaN  \n",
       "1949.0           NaN  \n",
       "1950.0           NaN  \n",
       "1951.0           NaN  \n",
       "1952.0           NaN  \n",
       "1953.0           NaN  \n",
       "1954.0           NaN  \n",
       "\n",
       "[10 rows x 47 columns]"
      ]
     },
     "execution_count": 23,
     "metadata": {},
     "output_type": "execute_result"
    }
   ],
   "source": [
    "year_station_table=pdf.pivot(index='year', columns='station', values='coeff_2')\n",
    "year_station_table.head(10)"
   ]
  },
  {
   "cell_type": "markdown",
   "metadata": {
    "run_control": {
     "frozen": false,
     "read_only": false
    }
   },
   "source": [
    "### Estimating the effect of the year vs the effect of the station\n",
    "\n",
    "To estimate the effect of time vs. location on the first eigenvector coefficient we\n",
    "compute:\n",
    "\n",
    "* The average row: `mean-by-station`\n",
    "* The average column: `mean-by-year`\n",
    "\n",
    "We then compute the RMS before and after subtracting either  the row or the column vector."
   ]
  },
  {
   "cell_type": "code",
   "execution_count": 24,
   "metadata": {
    "run_control": {
     "frozen": false,
     "read_only": false
    }
   },
   "outputs": [
    {
     "name": "stdout",
     "output_type": "stream",
     "text": [
      "total MS                   =  417468.577365\n",
      "MS removing mean-by-station=  381541.428529 , fraction explained=  8.60595282707\n",
      "MS removing mean-by-year   =  151462.166332 , fraction explained=  63.7189061538\n"
     ]
    }
   ],
   "source": [
    "def RMS(Mat):\n",
    "    return (np.nanmean(Mat**2))\n",
    "\n",
    "mean_by_year=np.nanmean(year_station_table,axis=1)\n",
    "mean_by_station=np.nanmean(year_station_table,axis=0)\n",
    "tbl_minus_year = (year_station_table.transpose()-mean_by_year).transpose()\n",
    "tbl_minus_station = year_station_table-mean_by_station\n",
    "\n",
    "a = RMS(year_station_table)\n",
    "b = RMS(tbl_minus_station)\n",
    "c = RMS(tbl_minus_year)\n",
    "\n",
    "print 'total MS                   = ',a\n",
    "print 'MS removing mean-by-station= ',b,', fraction explained= ', (a-b)/a*100\n",
    "print 'MS removing mean-by-year   = ',c,', fraction explained= ', (a-c)/a*100"
   ]
  },
  {
   "cell_type": "code",
   "execution_count": 21,
   "metadata": {
    "run_control": {
     "frozen": false,
     "read_only": false
    }
   },
   "outputs": [
    {
     "name": "stdout",
     "output_type": "stream",
     "text": [
      "initial RMS= 646.118083143\n",
      "0 after removing mean by year    = 389.181405429\n",
      "0 after removing mean by stations= 364.382933589\n",
      "1 after removing mean by year    = 363.235446874\n",
      "1 after removing mean by stations= 363.111681619\n",
      "2 after removing mean by year    = 363.090825353\n",
      "2 after removing mean by stations= 363.085841244\n",
      "3 after removing mean by year    = 363.084162625\n",
      "3 after removing mean by stations= 363.083418988\n",
      "4 after removing mean by year    = 363.083033867\n",
      "4 after removing mean by stations= 363.082819911\n"
     ]
    }
   ],
   "source": [
    "T=year_station_table\n",
    "print 'initial RMS=',RMS(T)\n",
    "for i in range(5):\n",
    "    mean_by_year=np.nanmean(T,axis=1)\n",
    "    T=(T.transpose()-mean_by_year).transpose()\n",
    "    print i,'after removing mean by year    =',RMS(T)\n",
    "    mean_by_station=np.nanmean(T,axis=0)\n",
    "    T=T-mean_by_station\n",
    "    print i,'after removing mean by stations=',RMS(T)"
   ]
  },
  {
   "cell_type": "code",
   "execution_count": 1,
   "metadata": {
    "run_control": {
     "frozen": false,
     "read_only": false
    }
   },
   "outputs": [
    {
     "ename": "NameError",
     "evalue": "name 'sc' is not defined",
     "output_type": "error",
     "traceback": [
      "\u001b[0;31m---------------------------------------------------------------------------\u001b[0m",
      "\u001b[0;31mNameError\u001b[0m                                 Traceback (most recent call last)",
      "\u001b[0;32m<ipython-input-1-f154e069615b>\u001b[0m in \u001b[0;36m<module>\u001b[0;34m()\u001b[0m\n\u001b[0;32m----> 1\u001b[0;31m \u001b[0msc\u001b[0m\u001b[0;34m.\u001b[0m\u001b[0mstop\u001b[0m\u001b[0;34m(\u001b[0m\u001b[0;34m)\u001b[0m\u001b[0;34m\u001b[0m\u001b[0m\n\u001b[0m",
      "\u001b[0;31mNameError\u001b[0m: name 'sc' is not defined"
     ]
    }
   ],
   "source": [
    "sc.stop()"
   ]
  },
  {
   "cell_type": "code",
   "execution_count": null,
   "metadata": {
    "collapsed": true
   },
   "outputs": [],
   "source": []
  }
 ],
 "metadata": {
  "anaconda-cloud": {},
  "hide_input": false,
  "kernelspec": {
   "display_name": "Python 2",
   "language": "python",
   "name": "python2"
  },
  "language_info": {
   "codemirror_mode": {
    "name": "ipython",
    "version": 2
   },
   "file_extension": ".py",
   "mimetype": "text/x-python",
   "name": "python",
   "nbconvert_exporter": "python",
   "pygments_lexer": "ipython2",
   "version": "2.7.13"
  },
  "toc": {
   "colors": {
    "hover_highlight": "#DAA520",
    "running_highlight": "#FF0000",
    "selected_highlight": "#FFD700"
   },
   "moveMenuLeft": true,
   "nav_menu": {
    "height": "174px",
    "width": "252px"
   },
   "navigate_menu": true,
   "number_sections": true,
   "sideBar": true,
   "threshold": 4,
   "toc_cell": false,
   "toc_section_display": "block",
   "toc_window_display": false
  },
  "widgets": {
   "state": {},
   "version": "1.0.0"
  }
 },
 "nbformat": 4,
 "nbformat_minor": 1
}
